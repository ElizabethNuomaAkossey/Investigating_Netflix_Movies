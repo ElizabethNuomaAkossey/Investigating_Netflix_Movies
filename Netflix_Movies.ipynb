{
 "cells": [
  {
   "cell_type": "markdown",
   "id": "dfa7ed15",
   "metadata": {},
   "source": [
    "### Investigating Netflix Movies"
   ]
  },
  {
   "cell_type": "code",
   "execution_count": null,
   "id": "8f640fee",
   "metadata": {},
   "outputs": [],
   "source": [
    "# Importing pandas and matplotlib\n",
    "import pandas as pd\n",
    "import matplotlib.pyplot as plt\n",
    "\n",
    "# Start coding!\n",
    "#Loading csv file of netflix_data\n",
    "netflix_df=pd.read_csv('netflix_data.csv')\n",
    "netflix_df.head()\n",
    "\n",
    "#Filtering data to remove TV Shows\n",
    "netflix_subset=netflix_df[netflix_df['type']=='Movie']\n",
    "\n",
    "#Subsetting netflix movie data for title, country, genre, release_year, duration of the netflix data\n",
    "netflix_movies=netflix_subset[['title','country','genre','release_year','duration']]\n",
    "\n",
    "#Filtering netflix movies for movies shorter than 60 minutes\n",
    "short_movies =netflix_movies[netflix_movies['duration']< 60]\n",
    "\n",
    "#using for loop to iterate through movies to assign colours to the various genres\n",
    "colors = []\n",
    "for lab,row in netflix_movies.iterrows():\n",
    "    if row['genre']=='Children':\n",
    "        colors.append('blue')\n",
    "    elif row['genre']=='Documentaries':\n",
    "        colors.append('yellow')\n",
    "    elif row['genre']=='Stand-Up':\n",
    "        colors.append('red')\n",
    "    else:\n",
    "        colors.append('black')\n",
    "\n",
    "fig = plt.figure(figsize=(12, 8))\n",
    "plt.scatter(netflix_movies['release_year'], netflix_movies['duration'], c=colors)\n",
    "plt.xlabel(\"Release year\")\n",
    "plt.ylabel(\"Duration (min)\")  # Removed extra space after 'min'\n",
    "plt.title(\"Movie Duration by Year of Release\")"
   ]
  }
 ],
 "metadata": {
  "kernelspec": {
   "display_name": "Python 3 (ipykernel)",
   "language": "python",
   "name": "python3"
  },
  "language_info": {
   "codemirror_mode": {
    "name": "ipython",
    "version": 3
   },
   "file_extension": ".py",
   "mimetype": "text/x-python",
   "name": "python",
   "nbconvert_exporter": "python",
   "pygments_lexer": "ipython3",
   "version": "3.11.3"
  }
 },
 "nbformat": 4,
 "nbformat_minor": 5
}
